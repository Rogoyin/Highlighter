{
 "cells": [
  {
   "cell_type": "code",
   "execution_count": 16,
   "metadata": {},
   "outputs": [],
   "source": []
  },
  {
   "cell_type": "code",
   "execution_count": 19,
   "metadata": {},
   "outputs": [],
   "source": []
  },
  {
   "cell_type": "code",
   "execution_count": 1,
   "metadata": {},
   "outputs": [],
   "source": [
    "import pandas as pd\n",
    "import numpy as np\n",
    "import math"
   ]
  },
  {
   "cell_type": "code",
   "execution_count": null,
   "metadata": {},
   "outputs": [],
   "source": [
    "import pandas as pd\n",
    "import numpy as np\n",
    "import seaborn as sns\n",
    "import matplotlib.pyplot as plt\n",
    "from collections import Counter\n",
    "\n",
    "import sys\n",
    "sys.path.append('c:/Users/tomas/Documents/Programación/Github/Patricionog/Modulio/Readmes')\n",
    "import Appio as ap\n",
    "import Archivio as ac\n",
    "import Databasio as bd\n",
    "import Datetimio as dt\n",
    "import Dictio as dc\n",
    "import Excelio as ex\n",
    "import Footio as ft\n",
    "import Foragio as fg\n",
    "import Framio as fr\n",
    "import Graphio as gr\n",
    "import Highlightio as hg\n",
    "import Inputio as ip\n",
    "import Listio as ls\n",
    "import Mathio as mt\n",
    "import Notio as nt\n",
    "import Numbio as nb\n",
    "import Numpio as nm\n",
    "import Stringio as st\n",
    "import Timio as tm\n",
    "import Tkintio as tn\n",
    "import Toolio as to"
   ]
  },
  {
   "cell_type": "code",
   "execution_count": 5,
   "metadata": {},
   "outputs": [
    {
     "name": "stdout",
     "output_type": "stream",
     "text": [
      "['94', '1435', '1435', '18', '2022', '14', '10', '57']\n"
     ]
    }
   ],
   "source": [
    "Text = '- La subrayado en la página 94 | posición 1435-1435 | Añadido el viernes, 18 de febrero de 2022 14:10:57'\n",
    "\n",
    "import re\n",
    "\n",
    "Resultado = re.findall(r\"\\d+\", Text)\n",
    "print(Resultado)"
   ]
  },
  {
   "cell_type": "code",
   "execution_count": 7,
   "metadata": {},
   "outputs": [
    {
     "data": {
      "text/plain": [
       "[94.0, 1435.0, 1435.0, 18.0, 2022.0, 14.0, 10.0, 57.0]"
      ]
     },
     "execution_count": 7,
     "metadata": {},
     "output_type": "execute_result"
    }
   ],
   "source": [
    "def Extract_Numbers(Text):\n",
    "    Resultado = re.findall(r\"\\d+\", Text)\n",
    "    Resultado = [float(Element) for Element in Resultado]\n",
    "\n",
    "    return Resultado\n",
    "\n",
    "Extract_Numbers(Text)"
   ]
  },
  {
   "cell_type": "code",
   "execution_count": 9,
   "metadata": {},
   "outputs": [
    {
     "name": "stdout",
     "output_type": "stream",
     "text": [
      "enero\n",
      "febrero\n",
      "marzo\n",
      "abril\n",
      "mayo\n",
      "junio\n",
      "julio\n",
      "agosto\n",
      "septiembre\n",
      "octubre\n",
      "noviembre\n",
      "diciembre\n"
     ]
    }
   ],
   "source": [
    "Months = {1: 'enero', \n",
    "              2: 'febrero', \n",
    "              3: 'marzo', \n",
    "              4: 'abril', \n",
    "              5: 'mayo', \n",
    "              6: 'junio', \n",
    "              7: 'julio', \n",
    "              8: 'agosto', \n",
    "              9: 'septiembre', \n",
    "              10: 'octubre', \n",
    "              11: 'noviembre', \n",
    "              12: 'diciembre'}\n",
    "    \n",
    "for Index, Month in Months.items():\n",
    "    print(Month)"
   ]
  },
  {
   "cell_type": "code",
   "execution_count": null,
   "metadata": {},
   "outputs": [],
   "source": []
  }
 ],
 "metadata": {
  "kernelspec": {
   "display_name": "Python 3",
   "language": "python",
   "name": "python3"
  },
  "language_info": {
   "codemirror_mode": {
    "name": "ipython",
    "version": 3
   },
   "file_extension": ".py",
   "mimetype": "text/x-python",
   "name": "python",
   "nbconvert_exporter": "python",
   "pygments_lexer": "ipython3",
   "version": "3.11.9"
  }
 },
 "nbformat": 4,
 "nbformat_minor": 2
}
