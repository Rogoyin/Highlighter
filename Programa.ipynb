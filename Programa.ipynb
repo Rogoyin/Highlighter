{
 "cells": [
  {
   "cell_type": "markdown",
   "metadata": {},
   "source": [
    "### __Paquetes__"
   ]
  },
  {
   "cell_type": "code",
   "execution_count": 163,
   "metadata": {},
   "outputs": [],
   "source": [
    "import Tools as t\n",
    "import pandas as pd\n",
    "import numpy as np\n",
    "from notion_client import Client\n",
    "from datetime import datetime\n",
    "import re\n",
    "import emoji\n",
    "import tkinter as tk\n",
    "from tkinter import filedialog\n",
    "from tkinter import simpledialog\n",
    "\n",
    "import sys\n",
    "sys.path.append('c:/Users/tomas/Documents/Programación/Universidad/Patricionog/Datos/Paquetes/')\n",
    "import Foragio as fg\n",
    "import Excelio as ex\n",
    "import Framio as fr\n",
    "import Stringio as st\n",
    "import Listio as ls\n",
    "import Graphio as gr\n",
    "import Notio as nt\n",
    "import Highlightio as hg"
   ]
  },
  {
   "cell_type": "markdown",
   "metadata": {},
   "source": [
    "### __Variables globales__"
   ]
  },
  {
   "cell_type": "code",
   "execution_count": 164,
   "metadata": {},
   "outputs": [],
   "source": [
    "# Páginas.\n",
    "\n",
    "Help_Valid_Txt = 'www.exhurbia.com/valid-txt'"
   ]
  },
  {
   "cell_type": "code",
   "execution_count": 165,
   "metadata": {},
   "outputs": [],
   "source": [
    "# Notion.\n",
    "\n",
    "Token = 'secret_NYOvwjAc63k8bhNv0zpfaeUX1S7dk5ilgek1hoWXKkR'\n",
    "Client = Client(auth=Token)"
   ]
  },
  {
   "cell_type": "markdown",
   "metadata": {},
   "source": [
    "### __Opciones y mensajes interactivos__"
   ]
  },
  {
   "cell_type": "markdown",
   "metadata": {},
   "source": [
    "##### 0. Mensajes predefinidos"
   ]
  },
  {
   "cell_type": "code",
   "execution_count": 166,
   "metadata": {},
   "outputs": [],
   "source": [
    "Dicotomic_Options = [True, False]\n",
    "Message_Request_Number = \"Introducí el número de tu elección:\"\n",
    "Message_Selected_Option = \"Opción seleccionada:\"\n",
    "Message_Invalid_Option = \"Opción no válida. La elección debe ser un valor entre 1 y\"\n",
    "Message_Invalid_Input = \"Entrada no válida. Por favor introduce un número.\""
   ]
  },
  {
   "cell_type": "markdown",
   "metadata": {},
   "source": [
    "##### 1. Textos en el explorador para seleccionar File"
   ]
  },
  {
   "cell_type": "code",
   "execution_count": 167,
   "metadata": {},
   "outputs": [],
   "source": [
    "Explorer_Input_Title = 'Seleccioná el recorte con tus notas'\n",
    "Filetypes_Description_Input = ['Archivos TXT']\n",
    "Filetypes_Extension_Input = ['txt']\n",
    "\n",
    "Filetypes_Tuples_Input = []\n",
    "\n",
    "# Crear tuplas.\n",
    "for Index, Filetype in enumerate(Filetypes_Description_Input):\n",
    "    Tuple = (Filetype, f'*.{Filetypes_Extension_Input[Index]}*')\n",
    "    Filetypes_Tuples_Input.append(Tuple)"
   ]
  },
  {
   "cell_type": "markdown",
   "metadata": {},
   "source": [
    "##### 2.1. Usar formato de output por defecto o no"
   ]
  },
  {
   "cell_type": "code",
   "execution_count": 168,
   "metadata": {},
   "outputs": [],
   "source": [
    "Default_Output_Format_Options = Dicotomic_Options\n",
    "Default_Output_Format_Messages = [\"¿Querés usar la configuración de salida por defecto?\",\n",
    "                                Message_Request_Number,\n",
    "                                Message_Selected_Option,\n",
    "                                f\"{Message_Invalid_Option} {len(Default_Output_Format_Options)}.\",\n",
    "                                Message_Invalid_Input] "
   ]
  },
  {
   "cell_type": "markdown",
   "metadata": {},
   "source": [
    "##### 2.2. Formato de output"
   ]
  },
  {
   "cell_type": "code",
   "execution_count": 169,
   "metadata": {},
   "outputs": [],
   "source": [
    "Output_Format_Options = ['pdf', 'docx', 'doc', 'odt', 'csv', 'xlsx', 'xls', 'txt', 'Exportar a Notion', 'Exportar a Evernote']\n",
    "Output_Format_Messages = [\"Elegí el formato de salida:\",\n",
    "                          Message_Request_Number,\n",
    "                          Message_Selected_Option,\n",
    "                          f\"{Message_Invalid_Option} {len(Output_Format_Options)}.\",\n",
    "                          Message_Invalid_Input] "
   ]
  },
  {
   "cell_type": "markdown",
   "metadata": {},
   "source": [
    "##### 3.1. Partir o no el output"
   ]
  },
  {
   "cell_type": "code",
   "execution_count": 170,
   "metadata": {},
   "outputs": [],
   "source": [
    "Output_Partition_Options = Dicotomic_Options\n",
    "Output_Partition_Messages = [\"¿Querés que salgan varios archivos de salida?\",\n",
    "                                Message_Request_Number,\n",
    "                                Message_Selected_Option,\n",
    "                                f\"{Message_Invalid_Option} {len(Output_Partition_Options)}.\",\n",
    "                                Message_Invalid_Input] "
   ]
  },
  {
   "cell_type": "markdown",
   "metadata": {},
   "source": [
    "##### 3.2. Usar partición del output por defecto o no"
   ]
  },
  {
   "cell_type": "code",
   "execution_count": 171,
   "metadata": {},
   "outputs": [],
   "source": [
    "Default_Output_Partition_Options = Dicotomic_Options\n",
    "Default_Output_Partition_Messages = [\"¿Querés usar la configuración de partición del archivo de salida por defecto?\",\n",
    "                                Message_Request_Number,\n",
    "                                Message_Selected_Option,\n",
    "                                f\"{Message_Invalid_Option} {len(Default_Output_Partition_Options)}.\",\n",
    "                                Message_Invalid_Input] "
   ]
  },
  {
   "cell_type": "markdown",
   "metadata": {},
   "source": [
    "##### 3.3. Criterio para partición del output"
   ]
  },
  {
   "cell_type": "code",
   "execution_count": 172,
   "metadata": {},
   "outputs": [],
   "source": [
    "Output_Partition_Criterion_Options = ['Por autor', 'Por libro', 'Por año', 'Por mes', 'Por día']\n",
    "Output_Partition_Criterion_Messages = [\"Elegí el criterio de partición de archivos:\",\n",
    "                          Message_Request_Number,\n",
    "                          Message_Selected_Option,\n",
    "                          f\"{Message_Invalid_Option} {len(Output_Partition_Criterion_Options)}.\",\n",
    "                          Message_Invalid_Input] "
   ]
  },
  {
   "cell_type": "markdown",
   "metadata": {},
   "source": [
    "##### 4.1. Usar ubicación del output por defecto o no"
   ]
  },
  {
   "cell_type": "code",
   "execution_count": 173,
   "metadata": {},
   "outputs": [],
   "source": [
    "Default_Output_Path_Options = Dicotomic_Options\n",
    "Default_Output_Path_Messages = [\"¿Querés usar la configuración de guardado del archivo de salida por defecto?\",\n",
    "                                Message_Request_Number,\n",
    "                                Message_Selected_Option,\n",
    "                                f\"{Message_Invalid_Option} {len(Default_Output_Path_Options)}.\",\n",
    "                                Message_Invalid_Input] "
   ]
  },
  {
   "cell_type": "markdown",
   "metadata": {},
   "source": [
    "##### 4.2. Textos en el explorador para seleccionar carpeta del output"
   ]
  },
  {
   "cell_type": "code",
   "execution_count": 174,
   "metadata": {},
   "outputs": [],
   "source": [
    "Explorer_Output_Title = 'Seleccioná la carpeta y el nombre del archivo final'\n",
    "Filetypes_Description_Output = ['Archivos PDF', 'Archivos Word', 'Archivos Word', 'Archivos LibreOffice Writer', 'Archivos CSV', 'Archivos Excel', 'Archivos Excel', 'Archivos TXT']\n",
    "Filetypes_Extension_Output = ['pdf', 'docx', 'doc', 'odt', 'csv', 'xlsx', 'xls', 'txt']\n",
    "\n",
    "Filetypes_Tuples_Output = []\n",
    "\n",
    "# Crear tuplas.\n",
    "for Index, Filetype in enumerate(Filetypes_Description_Output):\n",
    "    Tuple = (Filetype, f'*.{Filetypes_Extension_Output[Index]}*')\n",
    "    Filetypes_Tuples_Output.append(Tuple)"
   ]
  },
  {
   "cell_type": "markdown",
   "metadata": {},
   "source": [
    "##### 5. Mensaje de selección de usar configuración de Matchs por defecto o no"
   ]
  },
  {
   "cell_type": "code",
   "execution_count": 175,
   "metadata": {},
   "outputs": [],
   "source": [
    "Default_Match_Options = Dicotomic_Options\n",
    "Default_Match_Messages = [\"¿Querés usar la configuración de matchs y agrupamiento de highlights por defecto?\",\n",
    "                                Message_Request_Number,\n",
    "                                Message_Selected_Option,\n",
    "                                f\"{Message_Invalid_Option} {len(Default_Match_Options)}.\",\n",
    "                                Message_Invalid_Input] "
   ]
  },
  {
   "cell_type": "markdown",
   "metadata": {},
   "source": [
    "##### 6. Mensaje de selección de usar configuración de Proccesing por defecto o no"
   ]
  },
  {
   "cell_type": "code",
   "execution_count": 176,
   "metadata": {},
   "outputs": [],
   "source": [
    "Default_Processing_Options = Dicotomic_Options\n",
    "Default_Processing_Messages = [\"¿Querés usar la configuración de procesamiento de los highlights por defecto?\",\n",
    "                                Message_Request_Number,\n",
    "                                Message_Selected_Option,\n",
    "                                f\"{Message_Invalid_Option} {len(Default_Processing_Options)}.\",\n",
    "                                Message_Invalid_Input] "
   ]
  },
  {
   "cell_type": "markdown",
   "metadata": {},
   "source": [
    "##### 7.1.  Mensaje de selección de usar configuración de estilo de Block por defecto o no "
   ]
  },
  {
   "cell_type": "code",
   "execution_count": 177,
   "metadata": {},
   "outputs": [],
   "source": [
    "Default_Block_Style_Options = Dicotomic_Options\n",
    "Default_Block_Style_Messages = [\"¿Querés usar la configuración de estilo de los highlights por defecto?\",\n",
    "                                Message_Request_Number,\n",
    "                                Message_Selected_Option,\n",
    "                                f\"{Message_Invalid_Option} {len(Default_Block_Style_Options)}.\",\n",
    "                                Message_Invalid_Input] "
   ]
  },
  {
   "cell_type": "markdown",
   "metadata": {},
   "source": [
    "##### 7.2. Estilos del bloque"
   ]
  },
  {
   "cell_type": "code",
   "execution_count": 178,
   "metadata": {},
   "outputs": [],
   "source": [
    "Block_Style_Options = [1, 2, 3, 4, 5, 6]\n",
    "Block_Style_Messages = [\"Elegí el estilo y la fuente de cada bloque:\",\n",
    "                          Message_Request_Number,\n",
    "                          Message_Selected_Option,\n",
    "                          f\"{Message_Invalid_Option} {len(Block_Style_Options)}.\",\n",
    "                          Message_Invalid_Input] "
   ]
  },
  {
   "cell_type": "markdown",
   "metadata": {},
   "source": [
    "##### 7.3. Estilo de fuente del highlight"
   ]
  },
  {
   "cell_type": "code",
   "execution_count": 179,
   "metadata": {},
   "outputs": [],
   "source": [
    "Highlight_Font_Style_Options = ['Normal', 'Negrita', 'Cursiva', 'Negrita y cursiva']\n",
    "Highlight_Font_Style_Messages = [\"Elegí el estilo de los highlights:\",\n",
    "                          Message_Request_Number,\n",
    "                          Message_Selected_Option,\n",
    "                          f\"{Message_Invalid_Option} {len(Highlight_Font_Style_Options)}.\",\n",
    "                          Message_Invalid_Input] "
   ]
  },
  {
   "cell_type": "markdown",
   "metadata": {},
   "source": [
    "##### 7.4. Estilo de fuente de la subline"
   ]
  },
  {
   "cell_type": "code",
   "execution_count": 180,
   "metadata": {},
   "outputs": [],
   "source": [
    "Subline_Font_Style_Options = ['Normal', 'Negrita', 'Cursiva', 'Negrita y cursiva']\n",
    "Subline_Font_Style_Messages = [\"Elegí el estilo de las sublines:\",\n",
    "                          Message_Request_Number,\n",
    "                          Message_Selected_Option,\n",
    "                          f\"{Message_Invalid_Option} {len(Subline_Font_Style_Options)}.\",\n",
    "                          Message_Invalid_Input] "
   ]
  },
  {
   "cell_type": "markdown",
   "metadata": {},
   "source": [
    "##### 7.5. Fuente del highlight"
   ]
  },
  {
   "cell_type": "code",
   "execution_count": 181,
   "metadata": {},
   "outputs": [],
   "source": [
    "# Esta tiene que ser una lista personalizada de fuentes. \n",
    "# Supongo se hace en la parte front.\n",
    "\n",
    "Highlight_Font_Message = 'Ingresá la fuente del highlight.'"
   ]
  },
  {
   "cell_type": "markdown",
   "metadata": {},
   "source": [
    "##### 7.6. Fuente de la subline"
   ]
  },
  {
   "cell_type": "code",
   "execution_count": 182,
   "metadata": {},
   "outputs": [],
   "source": [
    "# Esta tiene que ser una lista personalizada de fuentes. \n",
    "# Supongo se hace en la parte front.\n",
    "\n",
    "Subline_Font_Message = 'Ingresá la fuente de la subline:'"
   ]
  },
  {
   "cell_type": "markdown",
   "metadata": {},
   "source": [
    "##### 7.7. Color de fuente del highlight "
   ]
  },
  {
   "cell_type": "code",
   "execution_count": 183,
   "metadata": {},
   "outputs": [],
   "source": [
    "# Esta tiene que ser una lista personalizada de colores. \n",
    "# Supongo se hace en la parte front.\n",
    "\n",
    "Highlight_Color_Message = 'Ingresá el color del texto de la subline:'"
   ]
  },
  {
   "cell_type": "markdown",
   "metadata": {},
   "source": [
    "##### 7.8. Color de fuente de la subline "
   ]
  },
  {
   "cell_type": "code",
   "execution_count": 184,
   "metadata": {},
   "outputs": [],
   "source": [
    "# Esta tiene que ser una lista personalizada de colores. \n",
    "# Supongo se hace en la parte front.\n",
    "\n",
    "Subline_Color_Message = 'Ingresá el color del texto de la subline:'"
   ]
  },
  {
   "cell_type": "markdown",
   "metadata": {},
   "source": [
    "##### 7.9. Tamaño de fuente del highlight"
   ]
  },
  {
   "cell_type": "code",
   "execution_count": 185,
   "metadata": {},
   "outputs": [],
   "source": [
    "# Lo ingresa numéricamente el usuario.\n",
    "Highlight_Font_Size_Message = 'Ingresá el tamaño del texto del highlight:'"
   ]
  },
  {
   "cell_type": "markdown",
   "metadata": {},
   "source": [
    "##### 7.10. Tamaño de fuente del subline"
   ]
  },
  {
   "cell_type": "code",
   "execution_count": 186,
   "metadata": {},
   "outputs": [],
   "source": [
    "# Lo ingresa numéricamente el usuario.\n",
    "Subline_Font_Size_Message = 'Ingresá el tamaño del texto de la subline:'"
   ]
  },
  {
   "cell_type": "markdown",
   "metadata": {},
   "source": [
    "##### 7.11. Alineación del highlight"
   ]
  },
  {
   "cell_type": "code",
   "execution_count": 187,
   "metadata": {},
   "outputs": [],
   "source": [
    "Highlight_Align_Options = ['Izquierda', 'Derecha', 'Centro', 'Justificada']\n",
    "Highlight_Align_Messages = [\"Elegí la alineación de los highlights:\",\n",
    "                          Message_Request_Number,\n",
    "                          Message_Selected_Option,\n",
    "                          f\"{Message_Invalid_Option} {len(Highlight_Align_Options)}.\",\n",
    "                          Message_Invalid_Input] "
   ]
  },
  {
   "cell_type": "markdown",
   "metadata": {},
   "source": [
    "##### 7.12. Alineación de la subline "
   ]
  },
  {
   "cell_type": "code",
   "execution_count": 188,
   "metadata": {},
   "outputs": [],
   "source": [
    "Subline_Align_Options = ['Izquierda', 'Derecha', 'Centro', 'Justificada']\n",
    "Subline_Align_Messages = [\"Elegí la alineación de las sublines:\",\n",
    "                          Message_Request_Number,\n",
    "                          Message_Selected_Option,\n",
    "                          f\"{Message_Invalid_Option} {len(Subline_Align_Options)}.\",\n",
    "                          Message_Invalid_Input] "
   ]
  },
  {
   "cell_type": "markdown",
   "metadata": {},
   "source": [
    "##### 8.1. Usar la configuración de nombrado de output por defecto o no"
   ]
  },
  {
   "cell_type": "code",
   "execution_count": 189,
   "metadata": {},
   "outputs": [],
   "source": [
    "Default_Naming_Options = Dicotomic_Options\n",
    "Default_Naming_Messages = [\"¿Querés usar la configuración de nombrado de archivos por defecto?\",\n",
    "                                Message_Request_Number,\n",
    "                                Message_Selected_Option,\n",
    "                                f\"{Message_Invalid_Option} {len(Default_Naming_Options)}.\",\n",
    "                                Message_Invalid_Input] "
   ]
  },
  {
   "cell_type": "markdown",
   "metadata": {},
   "source": [
    "##### 8.2. En caso de ser solo uno, nombrar archivo"
   ]
  },
  {
   "cell_type": "code",
   "execution_count": 190,
   "metadata": {},
   "outputs": [],
   "source": [
    "# Lo ingresa el usuario.\n",
    "Naming_Message = 'Ingresá el nombre del archivo final que se guardará en la carpeta seleccionada:'"
   ]
  },
  {
   "cell_type": "markdown",
   "metadata": {},
   "source": [
    "### __Etapa 1. Pantalla de inicio (P_Start)__"
   ]
  },
  {
   "cell_type": "code",
   "execution_count": 191,
   "metadata": {},
   "outputs": [],
   "source": [
    "# Usuario.\n",
    "User = True"
   ]
  },
  {
   "cell_type": "markdown",
   "metadata": {},
   "source": [
    "Comenzamos con las elecciones que hace el usuario."
   ]
  },
  {
   "cell_type": "markdown",
   "metadata": {},
   "source": [
    "##### 1. Seleccionar el File"
   ]
  },
  {
   "cell_type": "code",
   "execution_count": 192,
   "metadata": {},
   "outputs": [
    {
     "name": "stdout",
     "output_type": "stream",
     "text": [
      "Selected file: C:/Users/tomas/Documents/Recortes/2024-08-13.txt\n"
     ]
    }
   ],
   "source": [
    "File_Path = t.Select_File(Explorer_Input_Title, Filetypes_Tuples_Input)"
   ]
  },
  {
   "cell_type": "markdown",
   "metadata": {},
   "source": [
    "##### 1.1. Detectar idioma del File"
   ]
  },
  {
   "cell_type": "markdown",
   "metadata": {},
   "source": [
    "Detectar las palabras y verificar.\n",
    "\n",
    "__[HACER].__\n",
    "\n",
    "- Función de análisis del idioma."
   ]
  },
  {
   "cell_type": "code",
   "execution_count": 193,
   "metadata": {},
   "outputs": [],
   "source": [
    "# File_Language = t.Language_File(File_Path)"
   ]
  },
  {
   "cell_type": "markdown",
   "metadata": {},
   "source": [
    "##### 1.2. Procesamiento del File"
   ]
  },
  {
   "cell_type": "markdown",
   "metadata": {},
   "source": [
    "Procesamiento y análisis del archivo .txt para que no cause problemas.\n",
    "\n",
    "__[HACER].__\n",
    "\n",
    "- Análisis del .txt en cuestión e indicando que no es compatible con el análisis.\n",
    "- Procesamiento chiquito del .txt, como por ejemplo, borrar espacios antes y después."
   ]
  },
  {
   "cell_type": "code",
   "execution_count": 194,
   "metadata": {},
   "outputs": [],
   "source": [
    "# if File_Language:\n",
    "    # File_Proccesed = t.Proccess_File(File_Path, File_Language)\n",
    "\n",
    "    # if File_Proccesed = False:\n",
    "    #    return File_Invalid_Alert"
   ]
  },
  {
   "cell_type": "markdown",
   "metadata": {},
   "source": [
    "##### 2. Seleccionar formato de output"
   ]
  },
  {
   "cell_type": "code",
   "execution_count": 195,
   "metadata": {},
   "outputs": [
    {
     "name": "stdout",
     "output_type": "stream",
     "text": [
      "¿Querés usar la configuración de salida por defecto?\n",
      "1. True\n",
      "2. False\n",
      "Opción seleccionada: True\n"
     ]
    }
   ],
   "source": [
    "if User:\n",
    "    Default_Output_Format = t.Choose_Option(Default_Output_Format_Options, \n",
    "                                     Default_Output_Format_Messages[0],\n",
    "                                     Default_Output_Format_Messages[1],\n",
    "                                     Default_Output_Format_Messages[2],\n",
    "                                     Default_Output_Format_Messages[3])\n",
    "    \n",
    "    if Default_Output_Format:\n",
    "        Output_Format = 'pdf'\n",
    "\n",
    "if User == False or Default_Output_Format == False:\n",
    "    Output_Format = t.Choose_Option(Output_Format_Options, \n",
    "                                    Output_Format_Messages[0],\n",
    "                                    Output_Format_Messages[1],\n",
    "                                    Output_Format_Messages[2],\n",
    "                                    Output_Format_Messages[3])   \n",
    "    \n",
    "# ¿Son formateables los bloques?\n",
    "Block_Formateable = ('pdf' in Output_Format or 'docx' in Output_Format or 'doc' in Output_Format)"
   ]
  },
  {
   "cell_type": "markdown",
   "metadata": {},
   "source": [
    "##### 3. Seleccionar la partición del output"
   ]
  },
  {
   "cell_type": "code",
   "execution_count": 196,
   "metadata": {},
   "outputs": [
    {
     "name": "stdout",
     "output_type": "stream",
     "text": [
      "¿Querés usar la configuración de partición del archivo de salida por defecto?\n",
      "1. True\n",
      "2. False\n",
      "Opción seleccionada: True\n"
     ]
    }
   ],
   "source": [
    "if User:\n",
    "    Default_Output_Partition = t.Choose_Option(Default_Output_Partition_Options, \n",
    "                                               Default_Output_Partition_Messages[0],\n",
    "                                               Default_Output_Partition_Messages[1],\n",
    "                                               Default_Output_Partition_Messages[2],\n",
    "                                               Default_Output_Partition_Messages[3])\n",
    "    \n",
    "    if Default_Output_Partition:\n",
    "        Output_Partition = True\n",
    "\n",
    "if User == False or Default_Output_Partition == False:\n",
    "    Output_Partition = t.Choose_Option(Output_Partition_Options, \n",
    "                                       Output_Partition_Messages[0],\n",
    "                                       Output_Partition_Messages[1],\n",
    "                                       Output_Partition_Messages[2],\n",
    "                                       Output_Partition_Messages[3])\n",
    "\n",
    "if Output_Partition:\n",
    "    Output_Partition_Criterion = t.Choose_Option(Output_Partition_Criterion_Options, \n",
    "                                    Output_Partition_Criterion_Messages[0],\n",
    "                                    Output_Partition_Criterion_Messages[1],\n",
    "                                    Output_Partition_Criterion_Messages[2],\n",
    "                                    Output_Partition_Criterion_Messages[3])"
   ]
  },
  {
   "cell_type": "markdown",
   "metadata": {},
   "source": [
    "##### 4. Seleccionar path del output"
   ]
  },
  {
   "cell_type": "code",
   "execution_count": 197,
   "metadata": {},
   "outputs": [
    {
     "name": "stdout",
     "output_type": "stream",
     "text": [
      "¿Querés usar la configuración de guardado del archivo de salida por defecto?\n",
      "1. True\n",
      "2. False\n",
      "Opción seleccionada: True\n"
     ]
    }
   ],
   "source": [
    "if User:\n",
    "    Default_Output_Path = t.Choose_Option(Default_Output_Path_Options, \n",
    "                                               Default_Output_Path_Messages[0],\n",
    "                                               Default_Output_Path_Messages[1],\n",
    "                                               Default_Output_Path_Messages[2],\n",
    "                                               Default_Output_Path_Messages[3])\n",
    "    \n",
    "    if Default_Output_Path:\n",
    "        Output_Path = 'c:/Users/tomas/Documents/Programación/Universidad/Patricionog/Highlights/'\n",
    "\n",
    "if User == False or Default_Output_Path == False:\n",
    "    Output_Path = t.Select_Directory(Explorer_Output_Title)"
   ]
  },
  {
   "cell_type": "markdown",
   "metadata": {},
   "source": [
    "##### 5. Decidir si se utilizan los Match por defecto"
   ]
  },
  {
   "cell_type": "code",
   "execution_count": 198,
   "metadata": {},
   "outputs": [
    {
     "name": "stdout",
     "output_type": "stream",
     "text": [
      "¿Querés usar la configuración de matchs y agrupamiento de highlights por defecto?\n",
      "1. True\n",
      "2. False\n",
      "Opción seleccionada: True\n"
     ]
    }
   ],
   "source": [
    "if User:\n",
    "    Default_Match = t.Choose_Option(Default_Match_Options, \n",
    "                                    Default_Match_Messages[0],\n",
    "                                    Default_Match_Messages[1],\n",
    "                                    Default_Match_Messages[2],\n",
    "                                    Default_Match_Messages[3])\n",
    "\n",
    "# Agregar opciones por si no es usuario o si es pero no elige por defecto."
   ]
  },
  {
   "cell_type": "markdown",
   "metadata": {},
   "source": [
    "##### 6. Decidir si se utiliza el Processing por defecto"
   ]
  },
  {
   "cell_type": "code",
   "execution_count": 199,
   "metadata": {},
   "outputs": [
    {
     "name": "stdout",
     "output_type": "stream",
     "text": [
      "¿Querés usar la configuración de procesamiento de los highlights por defecto?\n",
      "1. True\n",
      "2. False\n",
      "Opción seleccionada: True\n"
     ]
    }
   ],
   "source": [
    "if User:\n",
    "    Default_Proccesing = t.Choose_Option(Default_Processing_Options, \n",
    "                                         Default_Processing_Messages[0],\n",
    "                                         Default_Processing_Messages[1],\n",
    "                                         Default_Processing_Messages[2],\n",
    "                                         Default_Processing_Messages[3])\n",
    "\n",
    "# Agregar opciones por si no es usuario o si es pero no elige por defecto."
   ]
  },
  {
   "cell_type": "markdown",
   "metadata": {},
   "source": [
    "##### 7.1. Seleccionar estilo del bloque"
   ]
  },
  {
   "cell_type": "code",
   "execution_count": 200,
   "metadata": {},
   "outputs": [
    {
     "name": "stdout",
     "output_type": "stream",
     "text": [
      "¿Querés usar la configuración de estilo de los highlights por defecto?\n",
      "1. True\n",
      "2. False\n",
      "Opción seleccionada: True\n",
      "¿Querés usar la configuración de nombrado de archivos por defecto?\n",
      "1. True\n",
      "2. False\n",
      "Opción seleccionada: True\n"
     ]
    }
   ],
   "source": [
    "if User and Block_Formateable:\n",
    "    Default_Block_Style = t.Choose_Option(Default_Block_Style_Options, \n",
    "                                          Default_Block_Style_Messages[0],\n",
    "                                          Default_Block_Style_Messages[1],\n",
    "                                          Default_Block_Style_Messages[2],\n",
    "                                          Default_Block_Style_Messages[3])\n",
    "    \n",
    "    Default_Naming = t.Choose_Option(Default_Naming_Options, \n",
    "                                          Default_Naming_Messages[0],\n",
    "                                          Default_Naming_Messages[1],\n",
    "                                          Default_Naming_Messages[2],\n",
    "                                          Default_Naming_Messages[3])\n",
    "    \n",
    "\n",
    "if (User == False or Default_Block_Style == False) and Block_Formateable:\n",
    "    \n",
    "    Block_Style = t.Choose_Option(Block_Style_Options, \n",
    "                                       Block_Style_Messages[0],\n",
    "                                       Block_Style_Messages[1],\n",
    "                                       Block_Style_Messages[2],\n",
    "                                       Block_Style_Messages[3])\n",
    "    \n",
    "    Highlight_Font_Style = t.Choose_Option(Highlight_Font_Style_Options, \n",
    "                                        Highlight_Font_Style_Messages[0],\n",
    "                                        Highlight_Font_Style_Messages[1],\n",
    "                                        Highlight_Font_Style_Messages[2],\n",
    "                                        Highlight_Font_Style_Messages[3])\n",
    "\n",
    "    # Highlight_Font = show_message(\"Fuente de Resaltado\", Highlight_Font_Message)\n",
    "    \n",
    "    Subline_Font_Style = t.Choose_Option(Subline_Font_Style_Options, \n",
    "                                       Subline_Font_Style_Messages[0],\n",
    "                                       Subline_Font_Style_Messages[1],\n",
    "                                       Subline_Font_Style_Messages[2],\n",
    "                                       Subline_Font_Style_Messages[3])\n",
    "    \n",
    "    Highlight_Font = input(Highlight_Font_Message)\n",
    "    Subline_Font = input(Subline_Font_Message)\n",
    "\n",
    "    Highlight_Color = input(Highlight_Color_Message)\n",
    "    Subline_Color = input(Subline_Color_Message)\n",
    "\n",
    "    Highlight_Font_Size = input(Highlight_Font_Size_Message)\n",
    "    Subline_Font_Size = input(Subline_Font_Size_Message)\n",
    "\n",
    "    Highlight_Align = t.Choose_Option(Highlight_Align_Options, \n",
    "                                       Highlight_Align_Messages[0],\n",
    "                                       Highlight_Align_Messages[1],\n",
    "                                       Highlight_Align_Messages[2],\n",
    "                                       Highlight_Align_Messages[3])\n",
    "    \n",
    "    Subline_Align = t.Choose_Option(Subline_Align_Options, \n",
    "                                       Subline_Align_Messages[0],\n",
    "                                       Subline_Align_Messages[1],\n",
    "                                       Subline_Align_Messages[2],\n",
    "                                       Subline_Align_Messages[3])\n",
    "\n",
    "# Agregar opciones por si no es usuario o si es pero no elige por defecto."
   ]
  },
  {
   "cell_type": "markdown",
   "metadata": {},
   "source": [
    "##### 8. En caso de ser un output único, nombrarlo"
   ]
  },
  {
   "cell_type": "code",
   "execution_count": 201,
   "metadata": {},
   "outputs": [
    {
     "ename": "NameError",
     "evalue": "name 'Output_Partition' is not defined",
     "output_type": "error",
     "traceback": [
      "\u001b[1;31m---------------------------------------------------------------------------\u001b[0m",
      "\u001b[1;31mNameError\u001b[0m                                 Traceback (most recent call last)",
      "Cell \u001b[1;32mIn[201], line 1\u001b[0m\n\u001b[1;32m----> 1\u001b[0m \u001b[38;5;28;01mif\u001b[39;00m \u001b[43mOutput_Partition\u001b[49m \u001b[38;5;241m==\u001b[39m \u001b[38;5;28;01mFalse\u001b[39;00m:\n\u001b[0;32m      2\u001b[0m     Output_Name \u001b[38;5;241m=\u001b[39m \u001b[38;5;28minput\u001b[39m(Naming_Message)\n",
      "\u001b[1;31mNameError\u001b[0m: name 'Output_Partition' is not defined"
     ]
    }
   ],
   "source": [
    "if Output_Partition == False:\n",
    "    Output_Name = input(Naming_Message)"
   ]
  },
  {
   "cell_type": "markdown",
   "metadata": {},
   "source": [
    "### __Etapa 2. Pantalla de bloques (P_Display)__"
   ]
  },
  {
   "cell_type": "markdown",
   "metadata": {},
   "source": [
    "##### 1. Dataframe de notas "
   ]
  },
  {
   "cell_type": "code",
   "execution_count": 119,
   "metadata": {},
   "outputs": [
    {
     "data": {
      "text/html": [
       "<div>\n",
       "<style scoped>\n",
       "    .dataframe tbody tr th:only-of-type {\n",
       "        vertical-align: middle;\n",
       "    }\n",
       "\n",
       "    .dataframe tbody tr th {\n",
       "        vertical-align: top;\n",
       "    }\n",
       "\n",
       "    .dataframe thead th {\n",
       "        text-align: right;\n",
       "    }\n",
       "</style>\n",
       "<table border=\"1\" class=\"dataframe\">\n",
       "  <thead>\n",
       "    <tr style=\"text-align: right;\">\n",
       "      <th></th>\n",
       "      <th>Author</th>\n",
       "      <th>Book</th>\n",
       "      <th>Page</th>\n",
       "      <th>Day_Of_Week</th>\n",
       "      <th>Day</th>\n",
       "      <th>Month</th>\n",
       "      <th>Year</th>\n",
       "      <th>Hour</th>\n",
       "      <th>Highlight</th>\n",
       "      <th>Date</th>\n",
       "    </tr>\n",
       "  </thead>\n",
       "  <tbody>\n",
       "    <tr>\n",
       "      <th>1010</th>\n",
       "      <td>David J. Chalmers</td>\n",
       "      <td>La mente consciente</td>\n",
       "      <td>9</td>\n",
       "      <td>Martes</td>\n",
       "      <td>13</td>\n",
       "      <td>8</td>\n",
       "      <td>2024</td>\n",
       "      <td>08:03:00</td>\n",
       "      <td>En la práctica, por supuesto, no existe una se...</td>\n",
       "      <td>2024-08-13</td>\n",
       "    </tr>\n",
       "    <tr>\n",
       "      <th>1009</th>\n",
       "      <td>David J. Chalmers</td>\n",
       "      <td>La mente consciente</td>\n",
       "      <td>9</td>\n",
       "      <td>Martes</td>\n",
       "      <td>13</td>\n",
       "      <td>8</td>\n",
       "      <td>2024</td>\n",
       "      <td>08:02:00</td>\n",
       "      <td>en principio, existen dos proyectos en la expl...</td>\n",
       "      <td>2024-08-13</td>\n",
       "    </tr>\n",
       "    <tr>\n",
       "      <th>1008</th>\n",
       "      <td>David J. Chalmers</td>\n",
       "      <td>La mente consciente</td>\n",
       "      <td>8</td>\n",
       "      <td>Martes</td>\n",
       "      <td>13</td>\n",
       "      <td>8</td>\n",
       "      <td>2024</td>\n",
       "      <td>07:48:00</td>\n",
       "      <td>esperamos que los fenómenos más básicos sean r...</td>\n",
       "      <td>2024-08-13</td>\n",
       "    </tr>\n",
       "    <tr>\n",
       "      <th>1006</th>\n",
       "      <td>David J. Chalmers</td>\n",
       "      <td>La mente consciente</td>\n",
       "      <td>8</td>\n",
       "      <td>Martes</td>\n",
       "      <td>13</td>\n",
       "      <td>8</td>\n",
       "      <td>2024</td>\n",
       "      <td>07:47:00</td>\n",
       "      <td>la superveniencia lógica elimina cualquier mis...</td>\n",
       "      <td>2024-08-13</td>\n",
       "    </tr>\n",
       "    <tr>\n",
       "      <th>1007</th>\n",
       "      <td>David J. Chalmers</td>\n",
       "      <td>La mente consciente</td>\n",
       "      <td>8</td>\n",
       "      <td>Martes</td>\n",
       "      <td>13</td>\n",
       "      <td>8</td>\n",
       "      <td>2024</td>\n",
       "      <td>07:47:00</td>\n",
       "      <td>si la superveniencia lógica es válida, entonce...</td>\n",
       "      <td>2024-08-13</td>\n",
       "    </tr>\n",
       "  </tbody>\n",
       "</table>\n",
       "</div>"
      ],
      "text/plain": [
       "                 Author                 Book Page Day_Of_Week Day  Month  \\\n",
       "1010  David J. Chalmers  La mente consciente    9      Martes  13      8   \n",
       "1009  David J. Chalmers  La mente consciente    9      Martes  13      8   \n",
       "1008  David J. Chalmers  La mente consciente    8      Martes  13      8   \n",
       "1006  David J. Chalmers  La mente consciente    8      Martes  13      8   \n",
       "1007  David J. Chalmers  La mente consciente    8      Martes  13      8   \n",
       "\n",
       "      Year      Hour                                          Highlight  \\\n",
       "1010  2024  08:03:00  En la práctica, por supuesto, no existe una se...   \n",
       "1009  2024  08:02:00  en principio, existen dos proyectos en la expl...   \n",
       "1008  2024  07:48:00  esperamos que los fenómenos más básicos sean r...   \n",
       "1006  2024  07:47:00  la superveniencia lógica elimina cualquier mis...   \n",
       "1007  2024  07:47:00  si la superveniencia lógica es válida, entonce...   \n",
       "\n",
       "           Date  \n",
       "1010 2024-08-13  \n",
       "1009 2024-08-13  \n",
       "1008 2024-08-13  \n",
       "1006 2024-08-13  \n",
       "1007 2024-08-13  "
      ]
     },
     "execution_count": 119,
     "metadata": {},
     "output_type": "execute_result"
    }
   ],
   "source": [
    "#if Default_Match == False:\n",
    "\n",
    "# df total del recorte.\n",
    "df = hg.Build_Df_Of_Highlights(File_Path)\n",
    "\n",
    "df.head()"
   ]
  },
  {
   "cell_type": "markdown",
   "metadata": {},
   "source": [
    "##### 2. Ordenamiento de los bloques por el usuario"
   ]
  },
  {
   "cell_type": "code",
   "execution_count": 120,
   "metadata": {},
   "outputs": [],
   "source": [
    "# Estas dos opciones debería elegirlas el usuario.\n",
    "\n",
    "# Opciones: ['Author', 'Book', 'Date']\n",
    "Order_By = 'Author'\n",
    "Ascending = False\n",
    "\n",
    "df = fr.Sort_Columns(df, Order_By)"
   ]
  },
  {
   "cell_type": "markdown",
   "metadata": {},
   "source": [
    "##### 3. Agrupamiento por condición que ponga el usuario "
   ]
  },
  {
   "cell_type": "code",
   "execution_count": 122,
   "metadata": {},
   "outputs": [],
   "source": [
    "# Opciones: [None, 'Author', 'Book', 'Day_Of_Week', 'Date', 'Month', 'Year']\n",
    "Group_By = 'Book'\n",
    "\n",
    "if Group_By:\n",
    "    Clippings = fr.Divide_DataFrames_By_Column(df, Group_By)"
   ]
  },
  {
   "cell_type": "markdown",
   "metadata": {},
   "source": [
    "##### 4. Combinación de Blocks"
   ]
  },
  {
   "cell_type": "code",
   "execution_count": null,
   "metadata": {},
   "outputs": [],
   "source": []
  },
  {
   "cell_type": "markdown",
   "metadata": {},
   "source": [
    "##### 5. Eliminación de Blocks"
   ]
  },
  {
   "cell_type": "code",
   "execution_count": null,
   "metadata": {},
   "outputs": [],
   "source": []
  },
  {
   "cell_type": "markdown",
   "metadata": {},
   "source": [
    "##### 6. Dividir Blocks"
   ]
  },
  {
   "cell_type": "code",
   "execution_count": null,
   "metadata": {},
   "outputs": [],
   "source": []
  },
  {
   "cell_type": "markdown",
   "metadata": {},
   "source": [
    "##### 7. Cambio de nombre de Clippings"
   ]
  },
  {
   "cell_type": "code",
   "execution_count": null,
   "metadata": {},
   "outputs": [],
   "source": []
  },
  {
   "cell_type": "markdown",
   "metadata": {},
   "source": [
    "##### 8. Eliminar Clippings"
   ]
  },
  {
   "cell_type": "code",
   "execution_count": null,
   "metadata": {},
   "outputs": [],
   "source": []
  },
  {
   "cell_type": "markdown",
   "metadata": {},
   "source": [
    "### __3. Procesamiento del texto (H_Proccesing)__"
   ]
  },
  {
   "cell_type": "code",
   "execution_count": null,
   "metadata": {},
   "outputs": [],
   "source": [
    "# Dejar pipí cucú los highlights.\n",
    "\n",
    "df.loc[:, 'Highlight'] = df['Highlight'].apply(t.Procesar_Texto)"
   ]
  },
  {
   "cell_type": "markdown",
   "metadata": {},
   "source": []
  },
  {
   "cell_type": "code",
   "execution_count": null,
   "metadata": {},
   "outputs": [],
   "source": []
  },
  {
   "cell_type": "markdown",
   "metadata": {},
   "source": [
    "### __Etapa 4. Integración con Notion (P_Notion)__"
   ]
  },
  {
   "cell_type": "code",
   "execution_count": 41,
   "metadata": {},
   "outputs": [],
   "source": [
    "# Elecciones del usuario.\n",
    "\n",
    "Database_ID = '129a53d444454d63820814429c4fb691'"
   ]
  },
  {
   "cell_type": "code",
   "execution_count": 42,
   "metadata": {},
   "outputs": [],
   "source": [
    "# Base de datos con autores e ID de las páginas en Notion dónde se pegan sus notas.\n",
    "Base_Matcheos = []"
   ]
  },
  {
   "cell_type": "code",
   "execution_count": 43,
   "metadata": {},
   "outputs": [],
   "source": [
    "# Extraer autores del recorte.\n",
    "Autores = t.Extraer_Datos_Nota(File_Path, 'Ambos')"
   ]
  },
  {
   "cell_type": "code",
   "execution_count": 44,
   "metadata": {},
   "outputs": [],
   "source": [
    "Autores = t.Extraer_Datos_Nota(File_Path, 'Autores')"
   ]
  },
  {
   "cell_type": "code",
   "execution_count": 45,
   "metadata": {},
   "outputs": [
    {
     "name": "stdout",
     "output_type": "stream",
     "text": [
      "Error al intentar acceder a la base de datos: 'str' object has no attribute 'databases'\n"
     ]
    },
    {
     "ename": "TypeError",
     "evalue": "object of type 'NoneType' has no len()",
     "output_type": "error",
     "traceback": [
      "\u001b[1;31m---------------------------------------------------------------------------\u001b[0m",
      "\u001b[1;31mTypeError\u001b[0m                                 Traceback (most recent call last)",
      "Cell \u001b[1;32mIn[45], line 2\u001b[0m\n\u001b[0;32m      1\u001b[0m \u001b[38;5;66;03m# Matchear autores nuevos.\u001b[39;00m\n\u001b[1;32m----> 2\u001b[0m Base_Matcheos \u001b[38;5;241m=\u001b[39m \u001b[43mt\u001b[49m\u001b[38;5;241;43m.\u001b[39;49m\u001b[43mMatcheo_Notas_Con_Base_Notion\u001b[49m\u001b[43m(\u001b[49m\u001b[43mToken\u001b[49m\u001b[43m,\u001b[49m\u001b[43m \u001b[49m\u001b[43mAutores\u001b[49m\u001b[43m,\u001b[49m\u001b[43m \u001b[49m\u001b[43mDatabase_ID\u001b[49m\u001b[43m,\u001b[49m\u001b[43m \u001b[49m\u001b[43mBase_Matcheos\u001b[49m\u001b[43m)\u001b[49m\n\u001b[0;32m      4\u001b[0m \u001b[38;5;66;03m# Esta función vincula cada página de la base de datos con un elemento de la nota (libro o autor).\u001b[39;00m\n\u001b[0;32m      5\u001b[0m \u001b[38;5;66;03m# Hay que generalizarla, porque solo funciona con autores. Tiene que funcionar con libros. \u001b[39;00m\n\u001b[0;32m      6\u001b[0m \u001b[38;5;66;03m# Y ver si hay alguna forma más.\u001b[39;00m\n",
      "File \u001b[1;32mc:\\Users\\tomas\\Documents\\Programación\\Universidad\\Patricionog\\Highlights\\Tools.py:942\u001b[0m, in \u001b[0;36mMatcheo_Notas_Con_Base_Notion\u001b[1;34m(Token, Lista_Autores, ID_Pagina, Base_Previa_Matcheo)\u001b[0m\n\u001b[0;32m    940\u001b[0m \u001b[38;5;66;03m# Crear lista con los apellidos de los autores tal como aparecen en Notion.\u001b[39;00m\n\u001b[0;32m    941\u001b[0m Lista_Apellidos_Notion \u001b[38;5;241m=\u001b[39m []\n\u001b[1;32m--> 942\u001b[0m \u001b[38;5;28;01mfor\u001b[39;00m i \u001b[38;5;129;01min\u001b[39;00m \u001b[38;5;28mrange\u001b[39m (\u001b[38;5;241m0\u001b[39m, \u001b[38;5;28;43mlen\u001b[39;49m\u001b[43m(\u001b[49m\u001b[43mTitulos\u001b[49m\u001b[43m)\u001b[49m):\n\u001b[0;32m    943\u001b[0m     Nombre \u001b[38;5;241m=\u001b[39m Titulos[i][\u001b[38;5;124m'\u001b[39m\u001b[38;5;124mTitulo\u001b[39m\u001b[38;5;124m'\u001b[39m]\n\u001b[0;32m    944\u001b[0m     Nombre \u001b[38;5;241m=\u001b[39m f\u001b[38;5;241m.\u001b[39mEliminar_Acentos(Titulos[i][\u001b[38;5;124m'\u001b[39m\u001b[38;5;124mTitulo\u001b[39m\u001b[38;5;124m'\u001b[39m])\n",
      "\u001b[1;31mTypeError\u001b[0m: object of type 'NoneType' has no len()"
     ]
    }
   ],
   "source": [
    "# Matchear autores nuevos.\n",
    "Base_Matcheos = t.Matcheo_Notas_Con_Base_Notion(Token, Autores, Database_ID, Base_Matcheos)\n",
    "\n",
    "# Esta función vincula cada página de la base de datos con un elemento de la nota (libro o autor).\n",
    "# Hay que generalizarla, porque solo funciona con autores. Tiene que funcionar con libros. \n",
    "# Y ver si hay alguna forma más."
   ]
  },
  {
   "cell_type": "code",
   "execution_count": 9,
   "metadata": {},
   "outputs": [],
   "source": [
    "# Lista de diccionarios con el autor y sus frases.\n",
    "\n",
    "Lista_Diccionarios_Autores = t.Lista_De_Diccionarios_Por_Elemento_Padre(df, Autores, 'Autor', ['Libro', 'Highlight'])"
   ]
  },
  {
   "cell_type": "code",
   "execution_count": 10,
   "metadata": {},
   "outputs": [],
   "source": [
    "# Columnas nuevas en el df.\n",
    "\n",
    "df['ID_Autor'] = ''\n",
    "df['ID_Libro'] = ''\n",
    "df['Emoji'] = ''"
   ]
  },
  {
   "cell_type": "code",
   "execution_count": 11,
   "metadata": {},
   "outputs": [],
   "source": [
    "# Armamos un df para los libros con sus respectivos ID.\n",
    "\n",
    "df_Libros = pd.DataFrame()\n",
    "\n",
    "for Autor in Autores:\n",
    "    # Extraemos los ID de cada autor.\n",
    "    for Match in Base_Matcheos:\n",
    "        if Match['Autor'] == Autor:\n",
    "            ID = Match['ID']\n",
    "\n",
    "    # Formamos un df con las frases de cada autor.\n",
    "    df_Frases_Autor = df[df['Autor'] == Autor]  \n",
    "\n",
    "    # Formamos un df con los libros del autor.\n",
    "    df_Libros_Autor = t.Obtener_IDs_y_Contenido_Bloques(Token, ID)\n",
    "\n",
    "    # Eliminamos el número y los paréntesis.\n",
    "    df_Libros_Autor['Contenido'] = df_Libros_Autor['Contenido'].apply(lambda x: t.Eliminar_Texto_Entre_Caracteres(x, '(', ')').strip())\n",
    "\n",
    "    # Concatenar df1 y df2 verticalmente\n",
    "    df_Libros = pd.concat([df_Libros, df_Libros_Autor], ignore_index=True)\n",
    "\n",
    "    # Reordenar columnas.\n",
    "    df_Libros = df_Libros[['Contenido', 'ID']]"
   ]
  },
  {
   "cell_type": "code",
   "execution_count": 12,
   "metadata": {},
   "outputs": [
    {
     "data": {
      "text/html": [
       "<div>\n",
       "<style scoped>\n",
       "    .dataframe tbody tr th:only-of-type {\n",
       "        vertical-align: middle;\n",
       "    }\n",
       "\n",
       "    .dataframe tbody tr th {\n",
       "        vertical-align: top;\n",
       "    }\n",
       "\n",
       "    .dataframe thead th {\n",
       "        text-align: right;\n",
       "    }\n",
       "</style>\n",
       "<table border=\"1\" class=\"dataframe\">\n",
       "  <thead>\n",
       "    <tr style=\"text-align: right;\">\n",
       "      <th></th>\n",
       "      <th>Autor</th>\n",
       "      <th>Libro</th>\n",
       "      <th>Pagina</th>\n",
       "      <th>Dia de la semana</th>\n",
       "      <th>Dia</th>\n",
       "      <th>Mes</th>\n",
       "      <th>Año</th>\n",
       "      <th>Hora</th>\n",
       "      <th>Highlight</th>\n",
       "      <th>ID_Autor</th>\n",
       "      <th>ID_Libro</th>\n",
       "      <th>Emoji</th>\n",
       "    </tr>\n",
       "  </thead>\n",
       "  <tbody>\n",
       "    <tr>\n",
       "      <th>0</th>\n",
       "      <td>Lucio Anneo Séneca</td>\n",
       "      <td>Obras completas</td>\n",
       "      <td>108</td>\n",
       "      <td>Martes</td>\n",
       "      <td>18</td>\n",
       "      <td>Junio</td>\n",
       "      <td>2024</td>\n",
       "      <td>3:24</td>\n",
       "      <td>sobre los relojes públicos solía grabarse la i...</td>\n",
       "      <td>3b753b78-187f-414f-a78c-a9d106cca7fb</td>\n",
       "      <td>d96488ee-b603-42cb-97ed-8a3d8014f3d6</td>\n",
       "      <td></td>\n",
       "    </tr>\n",
       "    <tr>\n",
       "      <th>1</th>\n",
       "      <td>Lucio Anneo Séneca</td>\n",
       "      <td>Obras completas</td>\n",
       "      <td>49</td>\n",
       "      <td>Martes</td>\n",
       "      <td>18</td>\n",
       "      <td>Junio</td>\n",
       "      <td>2024</td>\n",
       "      <td>3:25</td>\n",
       "      <td>«Es ridículo que te apresures a la muerte por ...</td>\n",
       "      <td>3b753b78-187f-414f-a78c-a9d106cca7fb</td>\n",
       "      <td>d96488ee-b603-42cb-97ed-8a3d8014f3d6</td>\n",
       "      <td></td>\n",
       "    </tr>\n",
       "    <tr>\n",
       "      <th>2</th>\n",
       "      <td>Lucio Anneo Séneca</td>\n",
       "      <td>Séneca</td>\n",
       "      <td>49</td>\n",
       "      <td>Martes</td>\n",
       "      <td>18</td>\n",
       "      <td>Junio</td>\n",
       "      <td>2024</td>\n",
       "      <td>3:27</td>\n",
       "      <td>«¿Qué hay tan ridículo como suspirar por la mu...</td>\n",
       "      <td>3b753b78-187f-414f-a78c-a9d106cca7fb</td>\n",
       "      <td></td>\n",
       "      <td></td>\n",
       "    </tr>\n",
       "    <tr>\n",
       "      <th>3</th>\n",
       "      <td>Lucio Anneo Séneca</td>\n",
       "      <td>Séneca</td>\n",
       "      <td>49</td>\n",
       "      <td>Martes</td>\n",
       "      <td>18</td>\n",
       "      <td>Junio</td>\n",
       "      <td>2024</td>\n",
       "      <td>3:27</td>\n",
       "      <td>se nos ha de exhortar y fortalecer para este d...</td>\n",
       "      <td>3b753b78-187f-414f-a78c-a9d106cca7fb</td>\n",
       "      <td></td>\n",
       "      <td></td>\n",
       "    </tr>\n",
       "    <tr>\n",
       "      <th>4</th>\n",
       "      <td>Lucio Anneo Séneca</td>\n",
       "      <td>Séneca</td>\n",
       "      <td>50</td>\n",
       "      <td>Martes</td>\n",
       "      <td>18</td>\n",
       "      <td>Junio</td>\n",
       "      <td>2024</td>\n",
       "      <td>3:29</td>\n",
       "      <td>»Es decir: me despertaré, dormiré; comeré, ten...</td>\n",
       "      <td>3b753b78-187f-414f-a78c-a9d106cca7fb</td>\n",
       "      <td></td>\n",
       "      <td></td>\n",
       "    </tr>\n",
       "  </tbody>\n",
       "</table>\n",
       "</div>"
      ],
      "text/plain": [
       "                Autor            Libro Pagina Dia de la semana Dia    Mes  \\\n",
       "0  Lucio Anneo Séneca  Obras completas    108           Martes  18  Junio   \n",
       "1  Lucio Anneo Séneca  Obras completas     49           Martes  18  Junio   \n",
       "2  Lucio Anneo Séneca           Séneca     49           Martes  18  Junio   \n",
       "3  Lucio Anneo Séneca           Séneca     49           Martes  18  Junio   \n",
       "4  Lucio Anneo Séneca           Séneca     50           Martes  18  Junio   \n",
       "\n",
       "    Año  Hora                                          Highlight  \\\n",
       "0  2024  3:24  sobre los relojes públicos solía grabarse la i...   \n",
       "1  2024  3:25  «Es ridículo que te apresures a la muerte por ...   \n",
       "2  2024  3:27  «¿Qué hay tan ridículo como suspirar por la mu...   \n",
       "3  2024  3:27  se nos ha de exhortar y fortalecer para este d...   \n",
       "4  2024  3:29  »Es decir: me despertaré, dormiré; comeré, ten...   \n",
       "\n",
       "                               ID_Autor                              ID_Libro  \\\n",
       "0  3b753b78-187f-414f-a78c-a9d106cca7fb  d96488ee-b603-42cb-97ed-8a3d8014f3d6   \n",
       "1  3b753b78-187f-414f-a78c-a9d106cca7fb  d96488ee-b603-42cb-97ed-8a3d8014f3d6   \n",
       "2  3b753b78-187f-414f-a78c-a9d106cca7fb                                         \n",
       "3  3b753b78-187f-414f-a78c-a9d106cca7fb                                         \n",
       "4  3b753b78-187f-414f-a78c-a9d106cca7fb                                         \n",
       "\n",
       "  Emoji  \n",
       "0        \n",
       "1        \n",
       "2        \n",
       "3        \n",
       "4        "
      ]
     },
     "execution_count": 12,
     "metadata": {},
     "output_type": "execute_result"
    }
   ],
   "source": [
    "# Pegar ID_Libro e ID_Autor en df.\n",
    "\n",
    "# Creamos este df para poder transferir datos al df.\n",
    "df_Matcheos = pd.DataFrame(Base_Matcheos)\n",
    "\n",
    "df = t.Comparar_Df_y_Copiar(df, df_Libros, 'Libro', 'ID_Libro', 'Contenido', 'ID')\n",
    "df = t.Comparar_Df_y_Copiar(df, df_Matcheos, 'Autor', 'ID_Autor', 'Autor', 'ID')\n",
    "\n",
    "df[0:5]"
   ]
  },
  {
   "cell_type": "code",
   "execution_count": 13,
   "metadata": {},
   "outputs": [],
   "source": []
  },
  {
   "cell_type": "markdown",
   "metadata": {},
   "source": [
    "### __5. Generación del Output (P_End)__"
   ]
  },
  {
   "cell_type": "code",
   "execution_count": 15,
   "metadata": {},
   "outputs": [],
   "source": [
    "# Generar pdf.\n",
    "from fpdf import FPDF"
   ]
  },
  {
   "cell_type": "code",
   "execution_count": null,
   "metadata": {},
   "outputs": [],
   "source": [
    "# Nombre del PDF final.\n",
    "PDF_Name = 'PDF'"
   ]
  },
  {
   "cell_type": "code",
   "execution_count": 16,
   "metadata": {},
   "outputs": [],
   "source": [
    "# Variables.\n",
    "\n",
    "New_Font = 'ArialUnicode'\n",
    "Pathway_New_Font = 'Fonts/arial-unicode-ms.ttf'"
   ]
  },
  {
   "cell_type": "code",
   "execution_count": 17,
   "metadata": {},
   "outputs": [],
   "source": [
    "# Definir fuente del Highlight.\n",
    "\n",
    "Font = New_Font\n",
    "Fontsize = 12\n",
    "Style = ''"
   ]
  },
  {
   "cell_type": "code",
   "execution_count": 18,
   "metadata": {},
   "outputs": [],
   "source": [
    "# Propiedades de la celda.\n",
    "\n",
    "Cell_Weight = 190\n",
    "Cell_Height = 5\n",
    "Cell_Align = 'L'\n",
    "\n",
    "# Salto de línea después de la celda.\n",
    "Cell_Line_Break = True"
   ]
  },
  {
   "cell_type": "code",
   "execution_count": 19,
   "metadata": {},
   "outputs": [],
   "source": [
    "# Definir orden del highlight.\n",
    "\n",
    "# Pueden elegir entre 6 órdenes.\n",
    "\n",
    "# 1) \n",
    "# Highlight.\n",
    "# Libro (Autor).\n",
    "\n",
    "# 2) \n",
    "# Highlight.\n",
    "# Autor (Libro).\n",
    "\n",
    "# 3) \n",
    "# Highlight.\n",
    "# Autor.\n",
    "\n",
    "# 4) \n",
    "# Highlight.\n",
    "# Libro.\n",
    "\n",
    "# 5) \n",
    "# Highlight.\n",
    "# Autor.\n",
    "# Libro.\n",
    "\n",
    "# 5) \n",
    "# Highlight.\n",
    "# Libro.\n",
    "# Autor.\n",
    "\n",
    "Highlight_Style = 1"
   ]
  },
  {
   "cell_type": "code",
   "execution_count": 20,
   "metadata": {},
   "outputs": [],
   "source": [
    "# Definir fuente de autor y libro.\n",
    "\n",
    "# Autor.\n",
    "Author_Font = Font\n",
    "Author_Fontsize = 10\n",
    "Autor_Align = 'L'\n",
    "Author_Style = 'I'\n",
    "\n",
    "# Libro.\n",
    "Book_Font = Font\n",
    "Book_Fontsize = 10\n",
    "Book_Align = 'L'\n",
    "Book_Style = 'I'"
   ]
  },
  {
   "cell_type": "code",
   "execution_count": 21,
   "metadata": {},
   "outputs": [],
   "source": [
    "# Definir espacio.\n",
    "Space_Between_Highlights = 8\n",
    "Space_Between_Highlight_And_Author_Or_Book = 1.5"
   ]
  },
  {
   "cell_type": "code",
   "execution_count": 22,
   "metadata": {},
   "outputs": [],
   "source": [
    "# Crea un objeto llamado 'PDF', instancia de la clase FPDF.\n",
    "PDF = FPDF() "
   ]
  },
  {
   "cell_type": "code",
   "execution_count": 23,
   "metadata": {},
   "outputs": [
    {
     "name": "stderr",
     "output_type": "stream",
     "text": [
      "C:\\Users\\tomas\\AppData\\Local\\Temp\\ipykernel_17568\\1237765908.py:2: DeprecationWarning: \"uni\" parameter is deprecated since v2.5.1, unused and will soon be removed\n",
      "  PDF.add_font(New_Font, '', Pathway_New_Font, uni=True) # Normal\n",
      "C:\\Users\\tomas\\AppData\\Local\\Temp\\ipykernel_17568\\1237765908.py:3: DeprecationWarning: \"uni\" parameter is deprecated since v2.5.1, unused and will soon be removed\n",
      "  PDF.add_font(New_Font, 'I', Pathway_New_Font, uni=True) # Italic\n",
      "C:\\Users\\tomas\\AppData\\Local\\Temp\\ipykernel_17568\\1237765908.py:4: DeprecationWarning: \"uni\" parameter is deprecated since v2.5.1, unused and will soon be removed\n",
      "  PDF.add_font(New_Font, 'B', Pathway_New_Font, uni=True) # Bold\n",
      "C:\\Users\\tomas\\AppData\\Local\\Temp\\ipykernel_17568\\1237765908.py:5: DeprecationWarning: \"uni\" parameter is deprecated since v2.5.1, unused and will soon be removed\n",
      "  PDF.add_font(New_Font, 'BI', Pathway_New_Font, uni=True) # Bold Italic\n"
     ]
    }
   ],
   "source": [
    "# Añadir fuente al pdf para que pueda leer caracteres especiales.\n",
    "PDF.add_font(New_Font, '', Pathway_New_Font, uni=True) # Normal\n",
    "PDF.add_font(New_Font, 'I', Pathway_New_Font, uni=True) # Italic\n",
    "PDF.add_font(New_Font, 'B', Pathway_New_Font, uni=True) # Bold\n",
    "PDF.add_font(New_Font, 'BI', Pathway_New_Font, uni=True) # Bold Italic"
   ]
  },
  {
   "cell_type": "code",
   "execution_count": 24,
   "metadata": {},
   "outputs": [],
   "source": [
    "# Añadir una página al documento.\n",
    "PDF.add_page()  "
   ]
  },
  {
   "cell_type": "code",
   "execution_count": 25,
   "metadata": {},
   "outputs": [],
   "source": [
    "# Establecer la fuente.\n",
    "PDF.set_font(Font, size=Fontsize, style=Style)  "
   ]
  },
  {
   "cell_type": "code",
   "execution_count": 26,
   "metadata": {},
   "outputs": [
    {
     "name": "stderr",
     "output_type": "stream",
     "text": [
      "C:\\Users\\tomas\\AppData\\Local\\Temp\\ipykernel_17568\\2176654088.py:4: DeprecationWarning: The parameter \"ln\" is deprecated since v2.5.2. Instead of ln=True use new_x=XPos.LMARGIN, new_y=YPos.NEXT.\n",
      "  PDF.multi_cell(Cell_Weight, Cell_Height, text=Row['Highlight'], ln=Cell_Line_Break, align=Cell_Align)\n",
      "C:\\Users\\tomas\\AppData\\Local\\Temp\\ipykernel_17568\\2176654088.py:14: DeprecationWarning: The parameter \"ln\" is deprecated since v2.5.2. Instead of ln=True use new_x=XPos.LMARGIN, new_y=YPos.NEXT.\n",
      "  PDF.cell(Cell_Weight, Cell_Height, text=f'{Row[\"Libro\"]} ({Row[\"Autor\"]})', ln=Cell_Line_Break, align=Autor_Align)\n"
     ]
    }
   ],
   "source": [
    "for Index, Row in df.iterrows():\n",
    "    # Agregar celda con la nota.\n",
    "    PDF.set_font(Font, Style, Fontsize)\n",
    "    PDF.multi_cell(Cell_Weight, Cell_Height, text=Row['Highlight'], ln=Cell_Line_Break, align=Cell_Align)\n",
    "\n",
    "    # Espacio con la línea del autor o libro.\n",
    "    PDF.ln(Space_Between_Highlight_And_Author_Or_Book)\n",
    "\n",
    "    # AGREGAR LOS OTROS ESTILOS DESPUÉS.\n",
    "    if Highlight_Style == 1:\n",
    "\n",
    "        # Cambiar fuente, tamaño y estilo solo para esta celda\n",
    "        PDF.set_font(Font, Author_Style, Author_Fontsize)\n",
    "        PDF.cell(Cell_Weight, Cell_Height, text=f'{Row[\"Libro\"]} ({Row[\"Autor\"]})', ln=Cell_Line_Break, align=Autor_Align)\n",
    "        \n",
    "    # Espacio con el otro highlight.\n",
    "    PDF.ln(Space_Between_Highlights)\n"
   ]
  },
  {
   "cell_type": "code",
   "execution_count": 27,
   "metadata": {},
   "outputs": [],
   "source": [
    "# Guarda el documento PDF en un archivo\n",
    "PDF.output(f'C:/Users/tomas/Downloads/{PDF_Name}.pdf')  "
   ]
  },
  {
   "cell_type": "code",
   "execution_count": null,
   "metadata": {},
   "outputs": [],
   "source": []
  }
 ],
 "metadata": {
  "kernelspec": {
   "display_name": "Python 3",
   "language": "python",
   "name": "python3"
  },
  "language_info": {
   "codemirror_mode": {
    "name": "ipython",
    "version": 3
   },
   "file_extension": ".py",
   "mimetype": "text/x-python",
   "name": "python",
   "nbconvert_exporter": "python",
   "pygments_lexer": "ipython3",
   "version": "3.11.9"
  }
 },
 "nbformat": 4,
 "nbformat_minor": 2
}
